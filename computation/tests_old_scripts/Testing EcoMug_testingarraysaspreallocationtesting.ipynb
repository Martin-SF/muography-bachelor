{
 "cells": [
  {
   "cell_type": "code",
   "execution_count": 7,
   "id": "aaa943be",
   "metadata": {},
   "outputs": [],
   "source": [
    "import numpy as np\n",
    "import matplotlib.pyplot as plt\n",
    "from scipy.stats import norm\n",
    "from tqdm import tqdm\n",
    "import random\n",
    "import os, sys\n",
    "\n",
    "plt.rcParams['figure.figsize'] = (8, 6)\n",
    "plt.rcParams['font.size'] = 12\n",
    "plt.rcParams['lines.linewidth'] = 2\n",
    "plt.rcParams['axes.labelsize'] = 14"
   ]
  },
  {
   "cell_type": "code",
   "execution_count": 8,
   "id": "54d3080f",
   "metadata": {},
   "outputs": [],
   "source": [
    "from EcoMug.build import EcoMug\n",
    "\n",
    "gen = EcoMug.EcoMug_Class()\n",
    "gen.SetUseSky()  # plane surface generation\n",
    "gen.SetSkySize((10, 10))  # x and y size of the plane\n",
    "gen.SetSkyCenterPosition((0, 0, 20))  # (x,y,z) position of the center of the plane\n",
    "gen.SetSeed(1909)\n",
    "# gen.SetMinimumMomentum(3)  # in GeV\n",
    "# gen.SetMaximumMomentum(1.5)  # in GeV"
   ]
  },
  {
   "cell_type": "code",
   "execution_count": 9,
   "id": "750df7e1",
   "metadata": {},
   "outputs": [
    {
     "name": "stdout",
     "output_type": "stream",
     "text": [
      "CPU times: user 2 µs, sys: 0 ns, total: 2 µs\n",
      "Wall time: 4.29 µs\n"
     ]
    }
   ],
   "source": [
    "%%time\n",
    "STATISTICS = int(1e5)\n",
    "# muon_position = np.zeros_like(np.arange(STATISTICS), shape=3)\n",
    "# muon_position = np.zeros_like(np.arange(STATISTICS*3))\n",
    "# muon_position.reshape((STATISTICS, 3))\n",
    "# muon_p = np.zeros_like(np.arange(STATISTICS))\n",
    "# muon_theta = np.zeros_like(np.arange(STATISTICS))\n",
    "# muon_phi = np.zeros_like(np.arange(STATISTICS))\n",
    "# muon_charge = np.zeros_like(np.arange(STATISTICS))\n",
    "\n",
    "# muon_position = np.arange(STATISTICS)\n",
    "# muon_p = np.arange(STATISTICS)\n",
    "# muon_theta = np.arange(STATISTICS)\n",
    "# muon_phi = np.arange(STATISTICS)\n",
    "# muon_charge = np.arange(STATISTICS)\n",
    "\n",
    "# muon_position = range(STATISTICS)\n",
    "# muon_p = [range(STATISTICS)]\n",
    "# muon_theta = range(STATISTICS)\n",
    "# muon_phi = range(STATISTICS)\n",
    "# muon_charge = range(STATISTICS)\n",
    "\n",
    "# muon_position\n",
    "# zero like : 2.23 ms\n",
    "# list : 0.006 ms\n",
    "# muon_position"
   ]
  },
  {
   "cell_type": "code",
   "execution_count": 10,
   "id": "d3242555",
   "metadata": {},
   "outputs": [
    {
     "name": "stdout",
     "output_type": "stream",
     "text": [
      "CPU times: user 306 µs, sys: 20 µs, total: 326 µs\n",
      "Wall time: 141 µs\n"
     ]
    }
   ],
   "source": [
    "%%time\n",
    "muon_position = np.arange(STATISTICS)\n",
    "# muon_position = range(STATISTICS)\n",
    "# muon_position = []\n",
    "\n",
    "\n",
    "# muon_position[50]"
   ]
  },
  {
   "cell_type": "code",
   "execution_count": 11,
   "id": "6aebd9bc",
   "metadata": {},
   "outputs": [
    {
     "name": "stdout",
     "output_type": "stream",
     "text": [
      "CPU times: user 1.21 s, sys: 0 ns, total: 1.21 s\n",
      "Wall time: 1.2 s\n"
     ]
    }
   ],
   "source": [
    "\n",
    "%%time\n",
    "for event in tqdm(range(STATISTICS), disable=True):\n",
    "    gen.Generate()\n",
    "\n",
    "    # muon_position[event] = gen.GetGenerationPosition()\n",
    "    # muon_p[event] = gen.GetGenerationMomentum()\n",
    "    # muon_theta[event] = gen.GetGenerationTheta()\n",
    "    # muon_phi[event] = gen.GetGenerationPhi()\n",
    "    # muon_charge[event] = gen.GetCharge() \n",
    "\n",
    "    # muon_position.append(gen.GetGenerationPosition())\n",
    "    # muon_p.append(gen.GetGenerationMomentum())\n",
    "    # muon_theta.append(gen.GetGenerationTheta())\n",
    "    # muon_phi.append(gen.GetGenerationPhi())\n",
    "    # muon_charge.append(gen.GetCharge())\n",
    "\n",
    "    muon_position = gen.GetGenerationPosition()\n",
    "    muon_p = gen.GetGenerationMomentum()\n",
    "    muon_theta = gen.GetGenerationTheta()\n",
    "    muon_phi = gen.GetGenerationPhi()\n",
    "    muon_charge = gen.GetCharge() \n",
    "\n",
    "    # b = gen.GetGenerationPosition()\n",
    "\n",
    "# zero like 1.08s\n",
    "#  arange 1.08s"
   ]
  },
  {
   "cell_type": "code",
   "execution_count": 12,
   "id": "a1ee7120",
   "metadata": {},
   "outputs": [
    {
     "data": {
      "text/html": [
       "<div>\n",
       "<style scoped>\n",
       "    .dataframe tbody tr th:only-of-type {\n",
       "        vertical-align: middle;\n",
       "    }\n",
       "\n",
       "    .dataframe tbody tr th {\n",
       "        vertical-align: top;\n",
       "    }\n",
       "\n",
       "    .dataframe thead th {\n",
       "        text-align: right;\n",
       "    }\n",
       "</style>\n",
       "<table border=\"1\" class=\"dataframe\">\n",
       "  <thead>\n",
       "    <tr style=\"text-align: right;\">\n",
       "      <th></th>\n",
       "      <th>position</th>\n",
       "      <th>momentum</th>\n",
       "      <th>theta</th>\n",
       "      <th>phi</th>\n",
       "      <th>charge</th>\n",
       "    </tr>\n",
       "  </thead>\n",
       "  <tbody>\n",
       "    <tr>\n",
       "      <th>0</th>\n",
       "      <td>-2.131612</td>\n",
       "      <td>12.706103</td>\n",
       "      <td>2.444814</td>\n",
       "      <td>0.522944</td>\n",
       "      <td>-1</td>\n",
       "    </tr>\n",
       "    <tr>\n",
       "      <th>1</th>\n",
       "      <td>4.624559</td>\n",
       "      <td>12.706103</td>\n",
       "      <td>2.444814</td>\n",
       "      <td>0.522944</td>\n",
       "      <td>-1</td>\n",
       "    </tr>\n",
       "    <tr>\n",
       "      <th>2</th>\n",
       "      <td>20.000000</td>\n",
       "      <td>12.706103</td>\n",
       "      <td>2.444814</td>\n",
       "      <td>0.522944</td>\n",
       "      <td>-1</td>\n",
       "    </tr>\n",
       "  </tbody>\n",
       "</table>\n",
       "</div>"
      ],
      "text/plain": [
       "    position   momentum     theta       phi  charge\n",
       "0  -2.131612  12.706103  2.444814  0.522944      -1\n",
       "1   4.624559  12.706103  2.444814  0.522944      -1\n",
       "2  20.000000  12.706103  2.444814  0.522944      -1"
      ]
     },
     "execution_count": 12,
     "metadata": {},
     "output_type": "execute_result"
    }
   ],
   "source": [
    "import datetime as dt\n",
    "import pandas as pd\n",
    "import scipy as s\n",
    "\n",
    "df = pd.DataFrame()\n",
    "df['position'] = muon_position\n",
    "df['momentum'] = muon_p\n",
    "df['theta'] = muon_theta\n",
    "df['phi'] = muon_phi\n",
    "df['charge'] = muon_charge\n",
    "\n",
    "df"
   ]
  }
 ],
 "metadata": {
  "kernelspec": {
   "display_name": "Python 3 (ipykernel)",
   "language": "python",
   "name": "python3"
  },
  "language_info": {
   "codemirror_mode": {
    "name": "ipython",
    "version": 3
   },
   "file_extension": ".py",
   "mimetype": "text/x-python",
   "name": "python",
   "nbconvert_exporter": "python",
   "pygments_lexer": "ipython3",
   "version": "3.9.7"
  }
 },
 "nbformat": 4,
 "nbformat_minor": 5
}
