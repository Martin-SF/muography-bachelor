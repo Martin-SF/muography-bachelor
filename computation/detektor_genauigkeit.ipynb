{
 "cells": [
  {
   "cell_type": "code",
   "execution_count": 10,
   "id": "cb3770dd",
   "metadata": {},
   "outputs": [],
   "source": [
    "import numpy as np\n",
    "def t(A, delta_N, Phi_800):\n",
    "    A_original = 75  # cm**2\n",
    "    return A_original/(delta_N**2*Phi_800*A)"
   ]
  },
  {
   "cell_type": "code",
   "execution_count": 42,
   "id": "d5eef815",
   "metadata": {},
   "outputs": [
    {
     "name": "stdout",
     "output_type": "stream",
     "text": [
      "Bei einer Fläche von 70.9 cm^2 muss der Detektor 3.4 Jahre messen, für Genauigkeit = 400 m\n"
     ]
    }
   ],
   "source": [
    "Phi_800 = 0.22 # counts per day\n",
    "delta_N = 1.55  # in % # 100m detektorraten unterschied\n",
    "delta_N /= 100\n",
    "\n",
    "# wassertiefen genauigkeit\n",
    "delta_h = 400\n",
    "delta_N = delta_h/100*(1.55/100)\n",
    "\n",
    "# ursprüngliches rohr\n",
    "d = 9.5 # cm\n",
    "A = np.pi*(d/2)**2\n",
    "\n",
    "t1 = t(A, delta_N, Phi_800)\n",
    "t1 = t1/365\n",
    "print(f'Bei einer Fläche von {A:.1f} cm^2 muss der Detektor {t1:.1f} Jahre messen, für Genauigkeit = {delta_h} m')"
   ]
  },
  {
   "cell_type": "code",
   "execution_count": 27,
   "id": "deeda2c0",
   "metadata": {},
   "outputs": [
    {
     "name": "stdout",
     "output_type": "stream",
     "text": [
      "Bei einer Fläche von 7088.2 cm^2 muss der Detektor 6.6 Monate messen, bei der angestrebten Genauigkeit\n"
     ]
    }
   ],
   "source": [
    "Phi_800 = 0.22 # counts per day\n",
    "delta_N = 1.55  # in % # 100m detektorraten unterschied\n",
    "delta_N /= 100\n",
    "\n",
    "# wassertiefen genauigkeit\n",
    "delta_h = 400\n",
    "delta_N = delta_h/100*(1.55/100)\n",
    "\n",
    "# inspektionsrohr\n",
    "d = 95 # cm\n",
    "A = np.pi*(d/2)**2\n",
    "\n",
    "t1 = t(A, delta_N, Phi_800)\n",
    "t1 = t1*12/365\n",
    "print(f'Bei einer Fläche von {A:.1f} cm^2 muss der Detektor {t1:.1f} Monate messen, bei der angestrebten Genauigkeit')"
   ]
  }
 ],
 "metadata": {
  "kernelspec": {
   "display_name": "Python 3 (ipykernel)",
   "language": "python",
   "name": "python3"
  },
  "language_info": {
   "codemirror_mode": {
    "name": "ipython",
    "version": 3
   },
   "file_extension": ".py",
   "mimetype": "text/x-python",
   "name": "python",
   "nbconvert_exporter": "python",
   "pygments_lexer": "ipython3",
   "version": "3.9.7"
  }
 },
 "nbformat": 4,
 "nbformat_minor": 5
}
