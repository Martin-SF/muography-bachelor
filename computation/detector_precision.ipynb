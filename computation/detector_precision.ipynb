{
 "cells": [
  {
   "cell_type": "markdown",
   "id": "bb6ac294",
   "metadata": {},
   "source": [
    "# calculate theoretical detector measurement times\n",
    " \n",
    "you can set the desired water precision with ```delta_h```.\n",
    " \n",
    "here are 2 examples where the measurement time is calculated.\n",
    "Copy a cell and play around with a detector size and the wanted precision"
   ]
  },
  {
   "cell_type": "code",
   "execution_count": 1,
   "id": "cb3770dd",
   "metadata": {},
   "outputs": [],
   "source": [
    "import numpy as np\n",
    "\n",
    "# rrturns time for given detector area A and given delta_N precision\n",
    "def t(A, delta_N, Phi_800):\n",
    "    A_original = 75  # cm**2\n",
    "    area_scaling = A_original/A\n",
    "    return area_scaling * 1/((delta_N**2) * Phi_800)\n",
    "\n",
    "Phi_800 = 0.22 # counts per day"
   ]
  },
  {
   "cell_type": "code",
   "execution_count": 2,
   "id": "d5eef815",
   "metadata": {},
   "outputs": [
    {
     "name": "stdout",
     "output_type": "stream",
     "text": [
      "Area: 75.0 cm^2\n",
      "precision: 100 m\n",
      "measurement time: 51.8 years\n"
     ]
    }
   ],
   "source": [
    "delta_N = 0.0155  # how much the rate changes with 100m water difference\n",
    "\n",
    "# Water depth accuracy\n",
    "delta_h = 100\n",
    "# conversion of 1.55 % per 100m change of rate to Deta_N:\n",
    "# weighting by delta_h/100 to a new depth h\n",
    "delta_N = delta_h/100*(delta_N)\n",
    "\n",
    "# original tube taken into account in bachelors thesis\n",
    "d = 9.5 # cm\n",
    "A = np.pi*(d/2)**2\n",
    "A = 75\n",
    "\n",
    "t1 = t(A, delta_N, Phi_800)/365\n",
    "print(f'Area: {A:.1f} cm^2\\nprecision: {delta_h} m\\nmeasurement time: {t1:.1f} years')"
   ]
  },
  {
   "cell_type": "code",
   "execution_count": 3,
   "id": "deeda2c0",
   "metadata": {},
   "outputs": [
    {
     "name": "stdout",
     "output_type": "stream",
     "text": [
      "Area: 7088.2 cm^2\n",
      "precision: 100 m\n",
      "measurement time: 6.6 month\n"
     ]
    }
   ],
   "source": [
    "delta_N = 0.0155  # how much the rate changes with 100m water difference\n",
    "# Water depth accuracy\n",
    "delta_h = 100\n",
    "# conversion of 1.55 % per 100m change of rate to Deta_N:\n",
    "# weighting by delta_h/100 to a new depth h\n",
    "delta_N = delta_h/100*(delta_N)\n",
    "\n",
    "# inspection tube\n",
    "d = 95 # cm\n",
    "A = np.pi*(d/2)**2\n",
    "\n",
    "t1 = t(A, delta_N, Phi_800)*12/365\n",
    "print(f'Area: {A:.1f} cm^2\\nprecision: {delta_h} m\\nmeasurement time: {t1:.1f} month')"
   ]
  },
  {
   "cell_type": "code",
   "execution_count": 2,
   "id": "e925db9e",
   "metadata": {},
   "outputs": [
    {
     "name": "stdout",
     "output_type": "stream",
     "text": [
      "Area: 40000.0 cm^2\n",
      "precision: 31 m\n",
      "measurement time: 12.1 month\n"
     ]
    }
   ],
   "source": [
    "delta_N = 0.0155  # how much the rate changes with 100m water difference\n",
    "# Water depth accuracy\n",
    "delta_h = 31\n",
    "# conversion of 1.55 % per 100m change of rate to Deta_N:\n",
    "# weighting by delta_h/100 to a new depth h\n",
    "delta_N = delta_h/100 * (delta_N)\n",
    "\n",
    "# inspection tube\n",
    "d = 95 # cm\n",
    "A = np.pi*(d/2)**2\n",
    "A = 4*1e4\n",
    "\n",
    "t1 = t(A, delta_N, Phi_800)*12/365\n",
    "print(f'Area: {A:.1f} cm^2\\nprecision: {delta_h} m\\nmeasurement time: {t1:.1f} month')"
   ]
  }
 ],
 "metadata": {
  "kernelspec": {
   "display_name": "Python 3 (ipykernel)",
   "language": "python",
   "name": "python3"
  },
  "language_info": {
   "codemirror_mode": {
    "name": "ipython",
    "version": 3
   },
   "file_extension": ".py",
   "mimetype": "text/x-python",
   "name": "python",
   "nbconvert_exporter": "python",
   "pygments_lexer": "ipython3",
   "version": "3.9.7"
  },
  "vscode": {
   "interpreter": {
    "hash": "96e0b0ad7bf204ba4ee59e17726b03258f3a3978d265721b5e43872b88d93722"
   }
  }
 },
 "nbformat": 4,
 "nbformat_minor": 5
}
